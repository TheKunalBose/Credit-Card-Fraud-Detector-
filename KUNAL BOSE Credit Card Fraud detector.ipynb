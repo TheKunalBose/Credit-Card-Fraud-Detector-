{
 "cells": [
  {
   "cell_type": "markdown",
   "metadata": {},
   "source": [
    "# Preparing the Data"
   ]
  },
  {
   "cell_type": "code",
   "execution_count": 1,
   "metadata": {},
   "outputs": [],
   "source": [
    "import pandas as pd"
   ]
  },
  {
   "cell_type": "code",
   "execution_count": 2,
   "metadata": {},
   "outputs": [],
   "source": [
    "datainput = pd.read_csv('creditcard.csv')"
   ]
  },
  {
   "cell_type": "code",
   "execution_count": 3,
   "metadata": {},
   "outputs": [
    {
     "name": "stdout",
     "output_type": "stream",
     "text": [
      "   Time        V1        V2        V3        V4        V5        V6        V7  \\\n",
      "0   0.0 -1.359807 -0.072781  2.536347  1.378155 -0.338321  0.462388  0.239599   \n",
      "1   0.0  1.191857  0.266151  0.166480  0.448154  0.060018 -0.082361 -0.078803   \n",
      "2   1.0 -1.358354 -1.340163  1.773209  0.379780 -0.503198  1.800499  0.791461   \n",
      "3   1.0 -0.966272 -0.185226  1.792993 -0.863291 -0.010309  1.247203  0.237609   \n",
      "4   2.0 -1.158233  0.877737  1.548718  0.403034 -0.407193  0.095921  0.592941   \n",
      "\n",
      "         V8        V9  ...       V21       V22       V23       V24       V25  \\\n",
      "0  0.098698  0.363787  ... -0.018307  0.277838 -0.110474  0.066928  0.128539   \n",
      "1  0.085102 -0.255425  ... -0.225775 -0.638672  0.101288 -0.339846  0.167170   \n",
      "2  0.247676 -1.514654  ...  0.247998  0.771679  0.909412 -0.689281 -0.327642   \n",
      "3  0.377436 -1.387024  ... -0.108300  0.005274 -0.190321 -1.175575  0.647376   \n",
      "4 -0.270533  0.817739  ... -0.009431  0.798278 -0.137458  0.141267 -0.206010   \n",
      "\n",
      "        V26       V27       V28  Amount  Class  \n",
      "0 -0.189115  0.133558 -0.021053  149.62      0  \n",
      "1  0.125895 -0.008983  0.014724    2.69      0  \n",
      "2 -0.139097 -0.055353 -0.059752  378.66      0  \n",
      "3 -0.221929  0.062723  0.061458  123.50      0  \n",
      "4  0.502292  0.219422  0.215153   69.99      0  \n",
      "\n",
      "[5 rows x 31 columns] \n",
      "\n",
      "Shape of Complete Data Set\n",
      "(284807, 31) \n",
      "\n"
     ]
    }
   ],
   "source": [
    "# Print the top 5 records\n",
    "print(datainput[0:5],\"\\n\")\n",
    "# Print the complete shape of the dataset\n",
    "print(\"Shape of Complete Data Set\")\n",
    "print(datainput.shape,\"\\n\")"
   ]
  },
  {
   "cell_type": "markdown",
   "metadata": {},
   "source": [
    "# Analysing the data"
   ]
  },
  {
   "cell_type": "code",
   "execution_count": 4,
   "metadata": {},
   "outputs": [],
   "source": [
    "import numpy as np\n",
    "import matplotlib.pyplot as plt"
   ]
  },
  {
   "cell_type": "code",
   "execution_count": 5,
   "metadata": {},
   "outputs": [],
   "source": [
    "x = datainput.V15\n",
    "y = datainput.Time "
   ]
  },
  {
   "cell_type": "code",
   "execution_count": 6,
   "metadata": {},
   "outputs": [
    {
     "data": {
      "image/png": "[encoded data removed]",
      "text/plain": [
       "<Figure size 432x288 with 1 Axes>"
      ]
     },
     "metadata": {
      "needs_background": "light"
     },
     "output_type": "display_data"
    }
   ],
   "source": [
    "plt.plot(y,x)\n",
    "#plt.xticks(np.arange(0,731,30)\n",
    "plt.show()"
   ]
  },
  {
   "cell_type": "markdown",
   "metadata": {},
   "source": [
    "# Checking the Imbalance in the Data"
   ]
  },
  {
   "cell_type": "code",
   "execution_count": 7,
   "metadata": {},
   "outputs": [
    {
     "name": "stdout",
     "output_type": "stream",
     "text": [
      "0.0017304750013189597\n",
      "False Detection Cases: 492\n",
      "True Detection Cases: 284315 \n",
      "\n"
     ]
    }
   ],
   "source": [
    "#Check for imbalance in data\n",
    "false = datainput[datainput['Class'] == 1]\n",
    "true = datainput[datainput['Class'] == 0]\n",
    "n = len(false)/float(len(true))\n",
    "print(n)\n",
    "print('False Detection Cases: {}'.format(len(datainput[datainput['Class'] == 1])))\n",
    "print('True Detection Cases: {}'.format(len(datainput[datainput['Class'] == 0])),\"\\n\")"
   ]
  },
  {
   "cell_type": "markdown",
   "metadata": {},
   "source": [
    "# Details of Transaction Types"
   ]
  },
  {
   "cell_type": "code",
   "execution_count": 8,
   "metadata": {},
   "outputs": [
    {
     "name": "stdout",
     "output_type": "stream",
     "text": [
      "False Detection Cases\n",
      "----------------------\n",
      "count     492.000000\n",
      "mean      122.211321\n",
      "std       256.683288\n",
      "min         0.000000\n",
      "25%         1.000000\n",
      "50%         9.250000\n",
      "75%       105.890000\n",
      "max      2125.870000\n",
      "Name: Amount, dtype: float64 \n",
      "\n",
      "True Detection Cases\n",
      "----------------------\n",
      "count    284315.000000\n",
      "mean         88.291022\n",
      "std         250.105092\n",
      "min           0.000000\n",
      "25%           5.650000\n",
      "50%          22.000000\n",
      "75%          77.050000\n",
      "max       25691.160000\n",
      "Name: Amount, dtype: float64 \n",
      "\n"
     ]
    }
   ],
   "source": [
    "#False Detection Cases\n",
    "print(\"False Detection Cases\")\n",
    "print(\"----------------------\")\n",
    "print(false.Amount.describe(),\"\\n\")\n",
    "\n",
    "#True Detection Cases\n",
    "print(\"True Detection Cases\")\n",
    "print(\"----------------------\")\n",
    "print(true.Amount.describe(),\"\\n\")"
   ]
  },
  {
   "cell_type": "markdown",
   "metadata": {},
   "source": [
    "# Separating features and Label"
   ]
  },
  {
   "cell_type": "code",
   "execution_count": 9,
   "metadata": {
    "scrolled": true
   },
   "outputs": [
    {
     "name": "stdout",
     "output_type": "stream",
     "text": [
      "(284807, 8)\n",
      "(284807,)\n"
     ]
    }
   ],
   "source": [
    "#separating features(X) and label(y)\n",
    "# Select all columns except the last for all rows\n",
    "X = datainput[['Time','V1','V5','V11',\"V15\",\"V20\",\"V25\",\"Amount\"]]\n",
    "# Select the last column of all rows\n",
    "Y = datainput.iloc[:, -1].values\n",
    "\n",
    "print(X.shape)\n",
    "print(Y.shape)"
   ]
  },
  {
   "cell_type": "markdown",
   "metadata": {},
   "source": [
    "# Train the Model"
   ]
  },
  {
   "cell_type": "code",
   "execution_count": 10,
   "metadata": {},
   "outputs": [],
   "source": [
    "from sklearn.model_selection import train_test_split\n",
    "#train_test_split method\n",
    "X_train, X_test, Y_train, Y_test = train_test_split(X, Y, test_size=0.2)"
   ]
  },
  {
   "cell_type": "markdown",
   "metadata": {},
   "source": [
    "# Applying Decision Tree Classification"
   ]
  },
  {
   "cell_type": "code",
   "execution_count": 11,
   "metadata": {},
   "outputs": [],
   "source": [
    "from sklearn import metrics"
   ]
  },
  {
   "cell_type": "markdown",
   "metadata": {},
   "source": [
    "# Finding Evaluation Parameters"
   ]
  },
  {
   "cell_type": "code",
   "execution_count": 12,
   "metadata": {},
   "outputs": [
    {
     "name": "stdout",
     "output_type": "stream",
     "text": [
      "\n",
      "predicted values :\n",
      " [0 0 0 ... 0 0 0]\n",
      "\n",
      "The accuracy score using the Decision Tree Classifier :  99.89993328885924\n"
     ]
    }
   ],
   "source": [
    "#DecisionTreeClassifier\n",
    "from sklearn.tree import DecisionTreeClassifier\n",
    "classifier=DecisionTreeClassifier(max_depth=4)\n",
    "classifier.fit(X_train,Y_train)\n",
    "predicted=classifier.predict(X_test)\n",
    "print(\"\\npredicted values :\\n\",predicted)\n",
    "\n",
    "#Accuracy\n",
    "DT = metrics.accuracy_score(Y_test, predicted) * 100\n",
    "print(\"\\nThe accuracy score using the Decision Tree Classifier : \",DT)"
   ]
  },
  {
   "cell_type": "code",
   "execution_count": 13,
   "metadata": {},
   "outputs": [
    {
     "name": "stdout",
     "output_type": "stream",
     "text": [
      "Time - 123\n",
      "V1 - 1.20561\n",
      "V5 - 2.061551\n",
      "V11 - 3.313213\n",
      "V15 - 4.321321\n",
      "V20 - 525.10\n",
      "V25 - 0.2513\n",
      "Amount - 50000\n",
      "Transaction is safe\n"
     ]
    }
   ],
   "source": [
    "test = pd.DataFrame()\n",
    "test['Time'] = [(input(\"Time - \"))]\n",
    "test['V1'] = [float(input(\"V1 - \"))]\n",
    "test['V5'] = [float(input(\"V5 - \"))]\n",
    "test['V11'] = [float(input(\"V11 - \"))]\n",
    "test['V15'] = [float(input(\"V15 - \"))]\n",
    "test['V20'] = [float(input(\"V20 - \"))]\n",
    "test['V25'] = [float(input(\"V25 - \"))]\n",
    "test['Amount'] = [float(input(\"Amount - \"))]\n",
    "a = (classifier.predict(test))\n",
    "if a == [0]:\n",
    "    print(\"Transaction is safe\")\n",
    "elif a == [1]:\n",
    "    print(\"Transaction is unsafe\")"
   ]
  },
  {
   "cell_type": "code",
   "execution_count": 14,
   "metadata": {},
   "outputs": [
    {
     "name": "stdout",
     "output_type": "stream",
     "text": [
      "\n",
      "The accuracy score using the DecisionTreeClassifier :  99.89993328885924\n",
      "precision\n",
      "0.8035714285714286\n",
      "recall\n",
      "0.4945054945054945\n",
      "f-Score\n",
      "0.6122448979591837\n"
     ]
    }
   ],
   "source": [
    "from sklearn.metrics import precision_score\n",
    "from sklearn.metrics import recall_score\n",
    "from sklearn.metrics import f1_score\n",
    "\n",
    "# #Accuracy\n",
    "DT = metrics.accuracy_score(Y_test, predicted) * 100\n",
    "print(\"\\nThe accuracy score using the DecisionTreeClassifier : \",DT)\n",
    "#\n",
    "# #Precision\n",
    "print('precision')\n",
    "# Precision = TP / (TP + FP) (Where TP = True Positive, TN = True Negative, FP = False Positive, FN = False Negative).\n",
    "precision = precision_score(Y_test, predicted, pos_label=1)\n",
    "print(precision_score(Y_test, predicted, pos_label=1))\n",
    "\n",
    "#Recall\n",
    "print('recall')\n",
    "# Recall = TP / (TP + FN)\n",
    "recall = recall_score(Y_test, predicted, pos_label=1)\n",
    "print(recall_score(Y_test, predicted, pos_label=1))\n",
    "\n",
    "#f1-score\n",
    "print('f-Score')\n",
    "# F - scores are a statistical method for determining accuracy accounting for both precision and recall.\n",
    "fscore = f1_score(Y_test, predicted, pos_label=1)\n",
    "print(f1_score(Y_test, predicted, pos_label=1))"
   ]
  },
  {
   "cell_type": "markdown",
   "metadata": {},
   "source": [
    "# Confusion Matrix\n"
   ]
  },
  {
   "cell_type": "code",
   "execution_count": 15,
   "metadata": {},
   "outputs": [
    {
     "data": {
      "text/plain": [
       "<AxesSubplot:xlabel='Predicted', ylabel='Actual'>"
      ]
     },
     "execution_count": 15,
     "metadata": {},
     "output_type": "execute_result"
    },
    {
     "data": {
      "image/png": "[encoded data removed]",
      "text/plain": [
       "<Figure size 432x288 with 2 Axes>"
      ]
     },
     "metadata": {
      "needs_background": "light"
     },
     "output_type": "display_data"
    }
   ],
   "source": [
    "import seaborn as sns\n",
    "df = pd.DataFrame()\n",
    "\n",
    "# Create new columns within dataframe\n",
    "df['Actual'] = Y_test\n",
    "df['Predicted'] = predicted\n",
    "\n",
    "# Use pd.crosstab to count the frequency of the classes in actual and predicted\n",
    "freq = pd.crosstab(df.Actual,df.Predicted)\n",
    "\n",
    "# Use sns.heatmap to plot the heatmap\n",
    "sns.heatmap(freq,annot=True,fmt=\"d\")"
   ]
  },
  {
   "cell_type": "code",
   "execution_count": null,
   "metadata": {},
   "outputs": [],
   "source": []
  }
 ],
 "metadata": {
  "kernelspec": {
   "display_name": "Python 3",
   "language": "python",
   "name": "python3"
  },
  "language_info": {
   "codemirror_mode": {
    "name": "ipython",
    "version": 3
   },
   "file_extension": ".py",
   "mimetype": "text/x-python",
   "name": "python",
   "nbconvert_exporter": "python",
   "pygments_lexer": "ipython3",
   "version": "3.8.5"
  }
 },
 "nbformat": 4,
 "nbformat_minor": 4
}
